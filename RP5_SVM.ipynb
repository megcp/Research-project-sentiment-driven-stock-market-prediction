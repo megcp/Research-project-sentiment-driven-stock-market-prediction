{
  "nbformat": 4,
  "nbformat_minor": 0,
  "metadata": {
    "colab": {
      "provenance": [],
      "authorship_tag": "ABX9TyPtET2m4i72udtdK7vd1+JL",
      "include_colab_link": true
    },
    "kernelspec": {
      "name": "python3",
      "display_name": "Python 3"
    },
    "language_info": {
      "name": "python"
    }
  },
  "cells": [
    {
      "cell_type": "markdown",
      "metadata": {
        "id": "view-in-github",
        "colab_type": "text"
      },
      "source": [
        "<a href=\"https://colab.research.google.com/github/megcp/Research-project-sentiment-driven-stock-market-prediction/blob/main/RP5_SVM.ipynb\" target=\"_parent\"><img src=\"https://colab.research.google.com/assets/colab-badge.svg\" alt=\"Open In Colab\"/></a>"
      ]
    },
    {
      "cell_type": "code",
      "execution_count": null,
      "metadata": {
        "id": "VSidFyYUJx_M"
      },
      "outputs": [],
      "source": [
        "# importing dependencies\n",
        "import pandas as pd\n",
        "import numpy as np\n",
        "import plotly.express as px\n",
        "import matplotlib.pyplot as plt\n",
        "import seaborn as sns\n",
        "from sklearn.model_selection import train_test_split, GridSearchCV, TimeSeriesSplit\n",
        "from sklearn.preprocessing import RobustScaler\n",
        "from sklearn.svm import SVC\n",
        "from sklearn.feature_selection import SelectKBest, mutual_info_classif\n",
        "from sklearn.metrics import accuracy_score, classification_report, confusion_matrix\n",
        "from sklearn.metrics import roc_curve, roc_auc_score"
      ]
    },
    {
      "cell_type": "code",
      "source": [
        "from google.colab import drive\n",
        "drive.mount('/content/drive')"
      ],
      "metadata": {
        "colab": {
          "base_uri": "https://localhost:8080/"
        },
        "id": "Q5OL9OGaKDzZ",
        "outputId": "1a5da683-2c6a-4977-884e-a53c8b8409c9"
      },
      "execution_count": null,
      "outputs": [
        {
          "output_type": "stream",
          "name": "stdout",
          "text": [
            "Mounted at /content/drive\n"
          ]
        }
      ]
    },
    {
      "cell_type": "code",
      "source": [
        "stock = pd.read_csv('/content/drive/My Drive/Research Project/apple_dataframe_ready_for_ML_3.csv')"
      ],
      "metadata": {
        "id": "mulTDCZ7B4Mb"
      },
      "execution_count": null,
      "outputs": []
    },
    {
      "cell_type": "code",
      "source": [
        "stock.head()"
      ],
      "metadata": {
        "colab": {
          "base_uri": "https://localhost:8080/",
          "height": 394
        },
        "id": "AlQujKH-B7mV",
        "outputId": "598b16c1-6e99-4ff3-a1d1-add64d22c844"
      },
      "execution_count": null,
      "outputs": [
        {
          "output_type": "execute_result",
          "data": {
            "text/plain": [
              "         Date  Average Sentiment Score    open      high     low   close  \\\n",
              "0  2022-05-10                 0.057865  155.52  156.7400  152.93  154.51   \n",
              "1  2022-05-11                 0.000212  153.50  155.4500  145.81  146.50   \n",
              "2  2022-05-12                -0.492591  142.77  146.2000  138.80  142.56   \n",
              "3  2022-05-13                -0.000451  144.59  148.1050  143.11  147.11   \n",
              "4  2022-05-16                 0.189421  145.55  147.5199  144.18  145.54   \n",
              "\n",
              "        volume  daily return  7-day rolling avg  14-day EMA  ...  \\\n",
              "0  115366736.0      0.016112         157.725714  159.349249  ...   \n",
              "1  142689825.0     -0.051841         156.088571  157.636016  ...   \n",
              "2  182602041.0     -0.026894         153.671429  155.625881  ...   \n",
              "3  113990852.0      0.031916         150.970000  154.490430  ...   \n",
              "4   86643781.0     -0.010672         149.365714  153.297039  ...   \n",
              "\n",
              "   sentiment 14D shift  sentiment 30D shift  Sentiment 5D Rolling Avg  \\\n",
              "0            -0.001057             0.210294                  0.003697   \n",
              "1             0.001353             0.497262                  0.003439   \n",
              "2             0.968269             0.002144                 -0.095079   \n",
              "3            -0.296904             0.006650                 -0.095159   \n",
              "4             0.000342             0.203714                 -0.049109   \n",
              "\n",
              "   Sentiment 10D Rolling Avg  Sentiment 14D Rolling Avg  \\\n",
              "0                   0.032672                   0.071413   \n",
              "1                   0.018439                   0.071331   \n",
              "2                  -0.091322                  -0.033016   \n",
              "3                  -0.071573                  -0.011841   \n",
              "4                  -0.028492                   0.001665   \n",
              "\n",
              "   encoded sentiment 1D shift  encoded sentiment 5D shift  \\\n",
              "0                         0.0                         0.0   \n",
              "1                         0.0                         0.0   \n",
              "2                         0.0                         0.0   \n",
              "3                        -1.0                         0.0   \n",
              "4                         0.0                         0.0   \n",
              "\n",
              "   enocded sentiment 7D shift  encoded sentiment 10D shift  \\\n",
              "0                        -1.0                          0.0   \n",
              "1                        -1.0                          1.0   \n",
              "2                         0.0                          1.0   \n",
              "3                         0.0                         -1.0   \n",
              "4                         0.0                         -1.0   \n",
              "\n",
              "   encoded sentiment 14D shift  \n",
              "0                          0.0  \n",
              "1                          0.0  \n",
              "2                          1.0  \n",
              "3                         -1.0  \n",
              "4                          0.0  \n",
              "\n",
              "[5 rows x 38 columns]"
            ],
            "text/html": [
              "\n",
              "  <div id=\"df-b3140a5a-1b89-4c15-89ca-d9838b4d36eb\" class=\"colab-df-container\">\n",
              "    <div>\n",
              "<style scoped>\n",
              "    .dataframe tbody tr th:only-of-type {\n",
              "        vertical-align: middle;\n",
              "    }\n",
              "\n",
              "    .dataframe tbody tr th {\n",
              "        vertical-align: top;\n",
              "    }\n",
              "\n",
              "    .dataframe thead th {\n",
              "        text-align: right;\n",
              "    }\n",
              "</style>\n",
              "<table border=\"1\" class=\"dataframe\">\n",
              "  <thead>\n",
              "    <tr style=\"text-align: right;\">\n",
              "      <th></th>\n",
              "      <th>Date</th>\n",
              "      <th>Average Sentiment Score</th>\n",
              "      <th>open</th>\n",
              "      <th>high</th>\n",
              "      <th>low</th>\n",
              "      <th>close</th>\n",
              "      <th>volume</th>\n",
              "      <th>daily return</th>\n",
              "      <th>7-day rolling avg</th>\n",
              "      <th>14-day EMA</th>\n",
              "      <th>...</th>\n",
              "      <th>sentiment 14D shift</th>\n",
              "      <th>sentiment 30D shift</th>\n",
              "      <th>Sentiment 5D Rolling Avg</th>\n",
              "      <th>Sentiment 10D Rolling Avg</th>\n",
              "      <th>Sentiment 14D Rolling Avg</th>\n",
              "      <th>encoded sentiment 1D shift</th>\n",
              "      <th>encoded sentiment 5D shift</th>\n",
              "      <th>enocded sentiment 7D shift</th>\n",
              "      <th>encoded sentiment 10D shift</th>\n",
              "      <th>encoded sentiment 14D shift</th>\n",
              "    </tr>\n",
              "  </thead>\n",
              "  <tbody>\n",
              "    <tr>\n",
              "      <th>0</th>\n",
              "      <td>2022-05-10</td>\n",
              "      <td>0.057865</td>\n",
              "      <td>155.52</td>\n",
              "      <td>156.7400</td>\n",
              "      <td>152.93</td>\n",
              "      <td>154.51</td>\n",
              "      <td>115366736.0</td>\n",
              "      <td>0.016112</td>\n",
              "      <td>157.725714</td>\n",
              "      <td>159.349249</td>\n",
              "      <td>...</td>\n",
              "      <td>-0.001057</td>\n",
              "      <td>0.210294</td>\n",
              "      <td>0.003697</td>\n",
              "      <td>0.032672</td>\n",
              "      <td>0.071413</td>\n",
              "      <td>0.0</td>\n",
              "      <td>0.0</td>\n",
              "      <td>-1.0</td>\n",
              "      <td>0.0</td>\n",
              "      <td>0.0</td>\n",
              "    </tr>\n",
              "    <tr>\n",
              "      <th>1</th>\n",
              "      <td>2022-05-11</td>\n",
              "      <td>0.000212</td>\n",
              "      <td>153.50</td>\n",
              "      <td>155.4500</td>\n",
              "      <td>145.81</td>\n",
              "      <td>146.50</td>\n",
              "      <td>142689825.0</td>\n",
              "      <td>-0.051841</td>\n",
              "      <td>156.088571</td>\n",
              "      <td>157.636016</td>\n",
              "      <td>...</td>\n",
              "      <td>0.001353</td>\n",
              "      <td>0.497262</td>\n",
              "      <td>0.003439</td>\n",
              "      <td>0.018439</td>\n",
              "      <td>0.071331</td>\n",
              "      <td>0.0</td>\n",
              "      <td>0.0</td>\n",
              "      <td>-1.0</td>\n",
              "      <td>1.0</td>\n",
              "      <td>0.0</td>\n",
              "    </tr>\n",
              "    <tr>\n",
              "      <th>2</th>\n",
              "      <td>2022-05-12</td>\n",
              "      <td>-0.492591</td>\n",
              "      <td>142.77</td>\n",
              "      <td>146.2000</td>\n",
              "      <td>138.80</td>\n",
              "      <td>142.56</td>\n",
              "      <td>182602041.0</td>\n",
              "      <td>-0.026894</td>\n",
              "      <td>153.671429</td>\n",
              "      <td>155.625881</td>\n",
              "      <td>...</td>\n",
              "      <td>0.968269</td>\n",
              "      <td>0.002144</td>\n",
              "      <td>-0.095079</td>\n",
              "      <td>-0.091322</td>\n",
              "      <td>-0.033016</td>\n",
              "      <td>0.0</td>\n",
              "      <td>0.0</td>\n",
              "      <td>0.0</td>\n",
              "      <td>1.0</td>\n",
              "      <td>1.0</td>\n",
              "    </tr>\n",
              "    <tr>\n",
              "      <th>3</th>\n",
              "      <td>2022-05-13</td>\n",
              "      <td>-0.000451</td>\n",
              "      <td>144.59</td>\n",
              "      <td>148.1050</td>\n",
              "      <td>143.11</td>\n",
              "      <td>147.11</td>\n",
              "      <td>113990852.0</td>\n",
              "      <td>0.031916</td>\n",
              "      <td>150.970000</td>\n",
              "      <td>154.490430</td>\n",
              "      <td>...</td>\n",
              "      <td>-0.296904</td>\n",
              "      <td>0.006650</td>\n",
              "      <td>-0.095159</td>\n",
              "      <td>-0.071573</td>\n",
              "      <td>-0.011841</td>\n",
              "      <td>-1.0</td>\n",
              "      <td>0.0</td>\n",
              "      <td>0.0</td>\n",
              "      <td>-1.0</td>\n",
              "      <td>-1.0</td>\n",
              "    </tr>\n",
              "    <tr>\n",
              "      <th>4</th>\n",
              "      <td>2022-05-16</td>\n",
              "      <td>0.189421</td>\n",
              "      <td>145.55</td>\n",
              "      <td>147.5199</td>\n",
              "      <td>144.18</td>\n",
              "      <td>145.54</td>\n",
              "      <td>86643781.0</td>\n",
              "      <td>-0.010672</td>\n",
              "      <td>149.365714</td>\n",
              "      <td>153.297039</td>\n",
              "      <td>...</td>\n",
              "      <td>0.000342</td>\n",
              "      <td>0.203714</td>\n",
              "      <td>-0.049109</td>\n",
              "      <td>-0.028492</td>\n",
              "      <td>0.001665</td>\n",
              "      <td>0.0</td>\n",
              "      <td>0.0</td>\n",
              "      <td>0.0</td>\n",
              "      <td>-1.0</td>\n",
              "      <td>0.0</td>\n",
              "    </tr>\n",
              "  </tbody>\n",
              "</table>\n",
              "<p>5 rows × 38 columns</p>\n",
              "</div>\n",
              "    <div class=\"colab-df-buttons\">\n",
              "\n",
              "  <div class=\"colab-df-container\">\n",
              "    <button class=\"colab-df-convert\" onclick=\"convertToInteractive('df-b3140a5a-1b89-4c15-89ca-d9838b4d36eb')\"\n",
              "            title=\"Convert this dataframe to an interactive table.\"\n",
              "            style=\"display:none;\">\n",
              "\n",
              "  <svg xmlns=\"http://www.w3.org/2000/svg\" height=\"24px\" viewBox=\"0 -960 960 960\">\n",
              "    <path d=\"M120-120v-720h720v720H120Zm60-500h600v-160H180v160Zm220 220h160v-160H400v160Zm0 220h160v-160H400v160ZM180-400h160v-160H180v160Zm440 0h160v-160H620v160ZM180-180h160v-160H180v160Zm440 0h160v-160H620v160Z\"/>\n",
              "  </svg>\n",
              "    </button>\n",
              "\n",
              "  <style>\n",
              "    .colab-df-container {\n",
              "      display:flex;\n",
              "      gap: 12px;\n",
              "    }\n",
              "\n",
              "    .colab-df-convert {\n",
              "      background-color: #E8F0FE;\n",
              "      border: none;\n",
              "      border-radius: 50%;\n",
              "      cursor: pointer;\n",
              "      display: none;\n",
              "      fill: #1967D2;\n",
              "      height: 32px;\n",
              "      padding: 0 0 0 0;\n",
              "      width: 32px;\n",
              "    }\n",
              "\n",
              "    .colab-df-convert:hover {\n",
              "      background-color: #E2EBFA;\n",
              "      box-shadow: 0px 1px 2px rgba(60, 64, 67, 0.3), 0px 1px 3px 1px rgba(60, 64, 67, 0.15);\n",
              "      fill: #174EA6;\n",
              "    }\n",
              "\n",
              "    .colab-df-buttons div {\n",
              "      margin-bottom: 4px;\n",
              "    }\n",
              "\n",
              "    [theme=dark] .colab-df-convert {\n",
              "      background-color: #3B4455;\n",
              "      fill: #D2E3FC;\n",
              "    }\n",
              "\n",
              "    [theme=dark] .colab-df-convert:hover {\n",
              "      background-color: #434B5C;\n",
              "      box-shadow: 0px 1px 3px 1px rgba(0, 0, 0, 0.15);\n",
              "      filter: drop-shadow(0px 1px 2px rgba(0, 0, 0, 0.3));\n",
              "      fill: #FFFFFF;\n",
              "    }\n",
              "  </style>\n",
              "\n",
              "    <script>\n",
              "      const buttonEl =\n",
              "        document.querySelector('#df-b3140a5a-1b89-4c15-89ca-d9838b4d36eb button.colab-df-convert');\n",
              "      buttonEl.style.display =\n",
              "        google.colab.kernel.accessAllowed ? 'block' : 'none';\n",
              "\n",
              "      async function convertToInteractive(key) {\n",
              "        const element = document.querySelector('#df-b3140a5a-1b89-4c15-89ca-d9838b4d36eb');\n",
              "        const dataTable =\n",
              "          await google.colab.kernel.invokeFunction('convertToInteractive',\n",
              "                                                    [key], {});\n",
              "        if (!dataTable) return;\n",
              "\n",
              "        const docLinkHtml = 'Like what you see? Visit the ' +\n",
              "          '<a target=\"_blank\" href=https://colab.research.google.com/notebooks/data_table.ipynb>data table notebook</a>'\n",
              "          + ' to learn more about interactive tables.';\n",
              "        element.innerHTML = '';\n",
              "        dataTable['output_type'] = 'display_data';\n",
              "        await google.colab.output.renderOutput(dataTable, element);\n",
              "        const docLink = document.createElement('div');\n",
              "        docLink.innerHTML = docLinkHtml;\n",
              "        element.appendChild(docLink);\n",
              "      }\n",
              "    </script>\n",
              "  </div>\n",
              "\n",
              "\n",
              "<div id=\"df-4b011803-c025-4570-8b08-5d6107edbead\">\n",
              "  <button class=\"colab-df-quickchart\" onclick=\"quickchart('df-4b011803-c025-4570-8b08-5d6107edbead')\"\n",
              "            title=\"Suggest charts\"\n",
              "            style=\"display:none;\">\n",
              "\n",
              "<svg xmlns=\"http://www.w3.org/2000/svg\" height=\"24px\"viewBox=\"0 0 24 24\"\n",
              "     width=\"24px\">\n",
              "    <g>\n",
              "        <path d=\"M19 3H5c-1.1 0-2 .9-2 2v14c0 1.1.9 2 2 2h14c1.1 0 2-.9 2-2V5c0-1.1-.9-2-2-2zM9 17H7v-7h2v7zm4 0h-2V7h2v10zm4 0h-2v-4h2v4z\"/>\n",
              "    </g>\n",
              "</svg>\n",
              "  </button>\n",
              "\n",
              "<style>\n",
              "  .colab-df-quickchart {\n",
              "      --bg-color: #E8F0FE;\n",
              "      --fill-color: #1967D2;\n",
              "      --hover-bg-color: #E2EBFA;\n",
              "      --hover-fill-color: #174EA6;\n",
              "      --disabled-fill-color: #AAA;\n",
              "      --disabled-bg-color: #DDD;\n",
              "  }\n",
              "\n",
              "  [theme=dark] .colab-df-quickchart {\n",
              "      --bg-color: #3B4455;\n",
              "      --fill-color: #D2E3FC;\n",
              "      --hover-bg-color: #434B5C;\n",
              "      --hover-fill-color: #FFFFFF;\n",
              "      --disabled-bg-color: #3B4455;\n",
              "      --disabled-fill-color: #666;\n",
              "  }\n",
              "\n",
              "  .colab-df-quickchart {\n",
              "    background-color: var(--bg-color);\n",
              "    border: none;\n",
              "    border-radius: 50%;\n",
              "    cursor: pointer;\n",
              "    display: none;\n",
              "    fill: var(--fill-color);\n",
              "    height: 32px;\n",
              "    padding: 0;\n",
              "    width: 32px;\n",
              "  }\n",
              "\n",
              "  .colab-df-quickchart:hover {\n",
              "    background-color: var(--hover-bg-color);\n",
              "    box-shadow: 0 1px 2px rgba(60, 64, 67, 0.3), 0 1px 3px 1px rgba(60, 64, 67, 0.15);\n",
              "    fill: var(--button-hover-fill-color);\n",
              "  }\n",
              "\n",
              "  .colab-df-quickchart-complete:disabled,\n",
              "  .colab-df-quickchart-complete:disabled:hover {\n",
              "    background-color: var(--disabled-bg-color);\n",
              "    fill: var(--disabled-fill-color);\n",
              "    box-shadow: none;\n",
              "  }\n",
              "\n",
              "  .colab-df-spinner {\n",
              "    border: 2px solid var(--fill-color);\n",
              "    border-color: transparent;\n",
              "    border-bottom-color: var(--fill-color);\n",
              "    animation:\n",
              "      spin 1s steps(1) infinite;\n",
              "  }\n",
              "\n",
              "  @keyframes spin {\n",
              "    0% {\n",
              "      border-color: transparent;\n",
              "      border-bottom-color: var(--fill-color);\n",
              "      border-left-color: var(--fill-color);\n",
              "    }\n",
              "    20% {\n",
              "      border-color: transparent;\n",
              "      border-left-color: var(--fill-color);\n",
              "      border-top-color: var(--fill-color);\n",
              "    }\n",
              "    30% {\n",
              "      border-color: transparent;\n",
              "      border-left-color: var(--fill-color);\n",
              "      border-top-color: var(--fill-color);\n",
              "      border-right-color: var(--fill-color);\n",
              "    }\n",
              "    40% {\n",
              "      border-color: transparent;\n",
              "      border-right-color: var(--fill-color);\n",
              "      border-top-color: var(--fill-color);\n",
              "    }\n",
              "    60% {\n",
              "      border-color: transparent;\n",
              "      border-right-color: var(--fill-color);\n",
              "    }\n",
              "    80% {\n",
              "      border-color: transparent;\n",
              "      border-right-color: var(--fill-color);\n",
              "      border-bottom-color: var(--fill-color);\n",
              "    }\n",
              "    90% {\n",
              "      border-color: transparent;\n",
              "      border-bottom-color: var(--fill-color);\n",
              "    }\n",
              "  }\n",
              "</style>\n",
              "\n",
              "  <script>\n",
              "    async function quickchart(key) {\n",
              "      const quickchartButtonEl =\n",
              "        document.querySelector('#' + key + ' button');\n",
              "      quickchartButtonEl.disabled = true;  // To prevent multiple clicks.\n",
              "      quickchartButtonEl.classList.add('colab-df-spinner');\n",
              "      try {\n",
              "        const charts = await google.colab.kernel.invokeFunction(\n",
              "            'suggestCharts', [key], {});\n",
              "      } catch (error) {\n",
              "        console.error('Error during call to suggestCharts:', error);\n",
              "      }\n",
              "      quickchartButtonEl.classList.remove('colab-df-spinner');\n",
              "      quickchartButtonEl.classList.add('colab-df-quickchart-complete');\n",
              "    }\n",
              "    (() => {\n",
              "      let quickchartButtonEl =\n",
              "        document.querySelector('#df-4b011803-c025-4570-8b08-5d6107edbead button');\n",
              "      quickchartButtonEl.style.display =\n",
              "        google.colab.kernel.accessAllowed ? 'block' : 'none';\n",
              "    })();\n",
              "  </script>\n",
              "</div>\n",
              "\n",
              "    </div>\n",
              "  </div>\n"
            ],
            "application/vnd.google.colaboratory.intrinsic+json": {
              "type": "dataframe",
              "variable_name": "stock"
            }
          },
          "metadata": {},
          "execution_count": 4
        }
      ]
    },
    {
      "cell_type": "code",
      "source": [
        "stock.columns"
      ],
      "metadata": {
        "colab": {
          "base_uri": "https://localhost:8080/"
        },
        "id": "kdwm_hGtpaZi",
        "outputId": "9d01f7ed-b473-414a-d5a6-3a393d8fdd1d"
      },
      "execution_count": null,
      "outputs": [
        {
          "output_type": "execute_result",
          "data": {
            "text/plain": [
              "Index(['Date', 'Average Sentiment Score', 'open', 'high', 'low', 'close',\n",
              "       'volume', 'daily return', '7-day rolling avg', '14-day EMA', 'change',\n",
              "       'avg gain', 'avg loss', 'RSI', 'month', 'day_of_week', 'year',\n",
              "       'daily variation', 'MACD', 'MACD Signal Line', '%K', '%D',\n",
              "       'encoded sentiment', 'movement', 'sentiment 1D shift',\n",
              "       'sentiment 5D shift', 'sentiment 7D shift', 'sentiment 10D shift',\n",
              "       'sentiment 14D shift', 'sentiment 30D shift',\n",
              "       'Sentiment 5D Rolling Avg', 'Sentiment 10D Rolling Avg',\n",
              "       'Sentiment 14D Rolling Avg', 'encoded sentiment 1D shift',\n",
              "       'encoded sentiment 5D shift', 'enocded sentiment 7D shift',\n",
              "       'encoded sentiment 10D shift', 'encoded sentiment 14D shift'],\n",
              "      dtype='object')"
            ]
          },
          "metadata": {},
          "execution_count": 5
        }
      ]
    },
    {
      "cell_type": "markdown",
      "source": [
        "# SVM WITH sentiment"
      ],
      "metadata": {
        "id": "DRAULInnQ2sz"
      }
    },
    {
      "cell_type": "markdown",
      "source": [
        "## Preprocessing"
      ],
      "metadata": {
        "id": "a1_cxWTQDC1E"
      }
    },
    {
      "cell_type": "code",
      "source": [
        "# convert date into datetime\n",
        "stock['Date'] = pd.to_datetime(stock['Date'])\n",
        "\n",
        "# set date as index\n",
        "stock.set_index('Date', inplace=True)\n",
        "# shift the target variable back a day so that we are using today's information to predict tomorrow's movement\n",
        "stock['movement (shifted -1)'] = stock['movement'].shift(-1)\n",
        "\n",
        "# dropping na rows created from shifting movement\n",
        "stock.dropna(inplace=True)\n",
        "\n",
        "# dropping  original movement column\n",
        "stock.drop(columns=['movement'], inplace=True)\n",
        "\n",
        "# splitting the data - maintaining chronological order as it is time-series data\n",
        "split_ratio = 0.7\n",
        "split_point = int(len(stock) * split_ratio)\n",
        "\n",
        "train = stock.iloc[:split_point]\n",
        "test = stock.iloc[split_point:]\n",
        "\n",
        "# seperate features and target\n",
        "X_train = train.drop(columns=['movement (shifted -1)'])\n",
        "y_train = train['movement (shifted -1)']\n",
        "X_test = test.drop(columns=['movement (shifted -1)'])\n",
        "y_test = test['movement (shifted -1)']\n",
        "\n"
      ],
      "metadata": {
        "id": "QhDK5U2XGFjF"
      },
      "execution_count": null,
      "outputs": []
    },
    {
      "cell_type": "code",
      "source": [
        "X_train.columns"
      ],
      "metadata": {
        "colab": {
          "base_uri": "https://localhost:8080/"
        },
        "id": "bPq3zOpveVVs",
        "outputId": "b11b5400-99f0-4027-bc50-a285b2753e50"
      },
      "execution_count": null,
      "outputs": [
        {
          "output_type": "execute_result",
          "data": {
            "text/plain": [
              "Index(['Average Sentiment Score', 'open', 'high', 'low', 'close', 'volume',\n",
              "       'daily return', '7-day rolling avg', '14-day EMA', 'change', 'avg gain',\n",
              "       'avg loss', 'RSI', 'month', 'day_of_week', 'year', 'daily variation',\n",
              "       'MACD', 'MACD Signal Line', '%K', '%D', 'encoded sentiment',\n",
              "       'sentiment 1D shift', 'sentiment 5D shift', 'sentiment 7D shift',\n",
              "       'sentiment 10D shift', 'sentiment 14D shift', 'sentiment 30D shift',\n",
              "       'Sentiment 5D Rolling Avg', 'Sentiment 10D Rolling Avg',\n",
              "       'Sentiment 14D Rolling Avg', 'encoded sentiment 1D shift',\n",
              "       'encoded sentiment 5D shift', 'enocded sentiment 7D shift',\n",
              "       'encoded sentiment 10D shift', 'encoded sentiment 14D shift'],\n",
              "      dtype='object')"
            ]
          },
          "metadata": {},
          "execution_count": 51
        }
      ]
    },
    {
      "cell_type": "code",
      "source": [
        "# scale data using RobustScaler\n",
        "scaler = RobustScaler()\n",
        "X_train_scaled = scaler.fit_transform(X_train)\n",
        "X_test_scaled = scaler.transform(X_test)\n",
        "\n",
        "# extract the feature names - to be used later\n",
        "feature_names = X_train.columns"
      ],
      "metadata": {
        "id": "GaC6OrB0eAP1"
      },
      "execution_count": null,
      "outputs": []
    },
    {
      "cell_type": "markdown",
      "source": [
        "## SVM with sentiment"
      ],
      "metadata": {
        "id": "FcQGbNePHKRy"
      }
    },
    {
      "cell_type": "code",
      "source": [
        "stock.shape"
      ],
      "metadata": {
        "colab": {
          "base_uri": "https://localhost:8080/"
        },
        "id": "p-E55yBWGxla",
        "outputId": "d58b5b63-0e6f-4aba-da99-7b324eb85c28"
      },
      "execution_count": null,
      "outputs": [
        {
          "output_type": "execute_result",
          "data": {
            "text/plain": [
              "(518, 37)"
            ]
          },
          "metadata": {},
          "execution_count": 8
        }
      ]
    },
    {
      "cell_type": "code",
      "source": [
        "def SVM(X_train_scaled, X_test_scaled, y_train, y_test, feature_names, k_values, param_grid):\n",
        "\n",
        "    best_model = None\n",
        "    best_score = 0\n",
        "    best_k = None\n",
        "    best_selected_features = None\n",
        "\n",
        "# going through each value of k to determine the best number of k based on mutual infomation that score the best testing accuracy\n",
        "    for k in k_values:\n",
        "        select = SelectKBest(score_func=mutual_info_classif, k=k)\n",
        "        X_train_selected = select.fit_transform(X_train_scaled, y_train)\n",
        "        X_test_selected = select.transform(X_test_scaled)\n",
        "\n",
        "        # 5 split cross validation for timeseries data- maintains chronocological order of the data\n",
        "        # grid search to selcect best parameters from the parameters grid\n",
        "        tscv = TimeSeriesSplit(n_splits=5)\n",
        "        grid_search = GridSearchCV(SVC(probability=True), param_grid, cv=tscv, scoring='accuracy')\n",
        "        grid_search.fit(X_train_selected, y_train)\n",
        "\n",
        "        # predict the test data\n",
        "        y_test_pred = grid_search.best_estimator_.predict(X_test_selected)\n",
        "        test_accuracy = accuracy_score(y_test, y_test_pred)\n",
        "\n",
        "        # storing the best test accuracy and retreiving the feature names of the k features used\n",
        "        if test_accuracy > best_score:\n",
        "            best_score = test_accuracy\n",
        "            best_model = grid_search.best_estimator_\n",
        "            best_k = k\n",
        "            best_selected_features = feature_names[select.get_support()]\n",
        "\n",
        "    print('Best k: ', best_k)\n",
        "    print('Selected Features: ', best_selected_features)\n",
        "    print('Best Test Accuracy: ', best_score)\n",
        "\n",
        "    # fitting the entire dataset with the selcted k features and parameters selcted above\n",
        "    select = SelectKBest(score_func=mutual_info_classif, k=best_k)\n",
        "    X_train_selected = select.fit_transform(X_train_scaled, y_train)\n",
        "    X_test_selected = select.transform(X_test_scaled)\n",
        "\n",
        "    best_model.fit(X_train_selected, y_train)\n",
        "\n",
        "    # predicting the test data\n",
        "    y_train_pred = best_model.predict(X_train_selected)\n",
        "    y_test_pred = best_model.predict(X_test_selected)\n",
        "    # obtaining evaluation metrics\n",
        "    train_accuracy = accuracy_score(y_train, y_train_pred)\n",
        "    test_accuracy = accuracy_score(y_test, y_test_pred)\n",
        "    print('Train Accuracy: ', train_accuracy)\n",
        "    print('Test Accuracy (after final fit): ', test_accuracy)\n",
        "    print('\\nClassification Report on Test Set:')\n",
        "    print(classification_report(y_test, y_test_pred))\n",
        "    print('\\nConfusion Matrix:')\n",
        "    print(confusion_matrix(y_test, y_test_pred))\n",
        "    #plotting confusion matrix\n",
        "    cm = confusion_matrix(y_test, y_test_pred)\n",
        "    matrix_names = ['True Neg', 'False Pos', 'False Neg', 'True Pos']\n",
        "    matrix_counts = ['{0:0.0f}'.format(value) for value in cm.flatten()]\n",
        "    labels = [f'{v1}\\n{v2}' for v1, v2 in zip(matrix_names, matrix_counts)]\n",
        "    labels = np.asarray(labels).reshape(2, 2)\n",
        "\n",
        "    plt.figure(figsize=(10, 7))\n",
        "    sns.heatmap(cm, annot=labels, fmt='', cmap='Blues', xticklabels=['Negative', 'Positive'], yticklabels=['Negative', 'Positive'])\n",
        "    plt.title('SVC with Sentiment Confusion Matrix')\n",
        "    plt.show()\n",
        "    # caluating false postive and true postive rate and auc score\n",
        "    y_test_pred_proba = best_model.predict_proba(X_test_selected)[:, 1]\n",
        "    fpr, tpr, _ = roc_curve(y_test, y_test_pred_proba)\n",
        "    auc = round(roc_auc_score(y_test, y_test_pred_proba), 4)\n",
        "\n",
        "    return best_model, fpr, tpr, auc, y_test, y_test_pred\n",
        "\n",
        "k_values = list(range(1, 36))\n",
        "param_grid = {\n",
        "    'kernel': ['linear', 'rbf'],\n",
        "    'C': [0.1, 1, 10],\n",
        "    'gamma': [1e-3, 1e-4]\n",
        "}\n",
        "\n",
        "\n",
        "\n",
        "best_model, fpr, tpr, auc, y_test, y_test_pred = SVM(X_train_scaled, X_test_scaled, y_train, y_test, feature_names, k_values, param_grid)\n",
        "print(best_model)\n"
      ],
      "metadata": {
        "colab": {
          "base_uri": "https://localhost:8080/",
          "height": 969
        },
        "id": "fo549zaY3lGw",
        "outputId": "065d47d8-3844-4b66-a666-7ad5ae03e6ff"
      },
      "execution_count": null,
      "outputs": [
        {
          "output_type": "stream",
          "name": "stdout",
          "text": [
            "Best k:  9\n",
            "Selected Features:  Index(['Average Sentiment Score', 'high', 'change', 'year', 'daily variation',\n",
            "       'MACD', 'sentiment 5D shift', 'sentiment 14D shift',\n",
            "       'Sentiment 5D Rolling Avg'],\n",
            "      dtype='object')\n",
            "Best Test Accuracy:  0.5256410256410257\n",
            "Train Accuracy:  0.5911602209944752\n",
            "Test Accuracy (after final fit):  0.5128205128205128\n",
            "\n",
            "Classification Report on Test Set:\n",
            "              precision    recall  f1-score   support\n",
            "\n",
            "        -1.0       0.47      0.22      0.30        74\n",
            "         1.0       0.52      0.78      0.63        82\n",
            "\n",
            "    accuracy                           0.51       156\n",
            "   macro avg       0.50      0.50      0.46       156\n",
            "weighted avg       0.50      0.51      0.47       156\n",
            "\n",
            "\n",
            "Confusion Matrix:\n",
            "[[16 58]\n",
            " [18 64]]\n"
          ]
        },
        {
          "output_type": "display_data",
          "data": {
            "text/plain": [
              "<Figure size 1000x700 with 2 Axes>"
            ],
            "image/png": "[encoded data removed]"
          },
          "metadata": {}
        },
        {
          "output_type": "stream",
          "name": "stdout",
          "text": [
            "SVC(C=10, gamma=0.001, kernel='linear', probability=True)\n"
          ]
        }
      ]
    },
    {
      "cell_type": "markdown",
      "source": [
        "# SVM without Sentiment\n",
        "\n"
      ],
      "metadata": {
        "id": "rvmnW0SGPc9p"
      }
    },
    {
      "cell_type": "markdown",
      "source": [
        "## Preprocessing"
      ],
      "metadata": {
        "id": "5o0sou7qPibP"
      }
    },
    {
      "cell_type": "code",
      "source": [
        "X_train.drop(columns=['Average Sentiment Score','encoded sentiment','sentiment 1D shift', 'sentiment 5D shift', 'sentiment 7D shift',\n",
        "       'sentiment 10D shift', 'sentiment 14D shift', 'sentiment 30D shift',\n",
        "       'Sentiment 5D Rolling Avg', 'Sentiment 10D Rolling Avg',\n",
        "       'Sentiment 14D Rolling Avg', 'encoded sentiment 1D shift',\n",
        "       'encoded sentiment 5D shift', 'enocded sentiment 7D shift',\n",
        "       'encoded sentiment 10D shift', 'encoded sentiment 14D shift'], inplace = True)\n",
        "X_test.drop(columns=['Average Sentiment Score','encoded sentiment','sentiment 1D shift', 'sentiment 5D shift', 'sentiment 7D shift',\n",
        "       'sentiment 10D shift', 'sentiment 14D shift', 'sentiment 30D shift',\n",
        "       'Sentiment 5D Rolling Avg', 'Sentiment 10D Rolling Avg',\n",
        "       'Sentiment 14D Rolling Avg', 'encoded sentiment 1D shift',\n",
        "       'encoded sentiment 5D shift', 'enocded sentiment 7D shift',\n",
        "       'encoded sentiment 10D shift', 'encoded sentiment 14D shift'], inplace = True)"
      ],
      "metadata": {
        "id": "oojTE855Q60z"
      },
      "execution_count": null,
      "outputs": []
    },
    {
      "cell_type": "code",
      "source": [
        "# scale data using RobustScaler\n",
        "scaler = RobustScaler()\n",
        "X_train_scaled = scaler.fit_transform(X_train)\n",
        "X_test_scaled = scaler.transform(X_test)\n",
        "\n",
        "# extract the feature names - to be used later\n",
        "feature_names = X_train.columns"
      ],
      "metadata": {
        "id": "qPiyLKQR2QOn"
      },
      "execution_count": null,
      "outputs": []
    },
    {
      "cell_type": "code",
      "source": [
        "def SVM(X_train_scaled, X_test_scaled, y_train, y_test, feature_names, k_values, param_grid):\n",
        "\n",
        "    best_model = None\n",
        "    best_score = 0\n",
        "    best_k = None\n",
        "    best_selected_features = None\n",
        "\n",
        "\n",
        "    for k in k_values:\n",
        "        select = SelectKBest(score_func=mutual_info_classif, k=k)\n",
        "        X_train_selected = select.fit_transform(X_train_scaled, y_train)\n",
        "        X_test_selected = select.transform(X_test_scaled)\n",
        "\n",
        "        tscv = TimeSeriesSplit(n_splits=5)\n",
        "        grid_search = GridSearchCV(SVC(probability=True, random_state=0), param_grid, cv=tscv, scoring='accuracy')\n",
        "        grid_search.fit(X_train_selected, y_train)\n",
        "\n",
        "        y_test_pred = grid_search.best_estimator_.predict(X_test_selected)\n",
        "        test_accuracy = accuracy_score(y_test, y_test_pred)\n",
        "\n",
        "        if test_accuracy > best_score:\n",
        "            best_score = test_accuracy\n",
        "            best_model = grid_search.best_estimator_\n",
        "            best_k = k\n",
        "            best_selected_features = feature_names[select.get_support()]\n",
        "\n",
        "    print('Best k: ', best_k)\n",
        "    print('Selected Features: ', best_selected_features)\n",
        "    print('Best Test Accuracy: ', best_score)\n",
        "\n",
        "    select = SelectKBest(score_func=mutual_info_classif, k=best_k)\n",
        "    X_train_selected = select.fit_transform(X_train_scaled, y_train)\n",
        "    X_test_selected = select.transform(X_test_scaled)\n",
        "\n",
        "    best_model.fit(X_train_selected, y_train)\n",
        "\n",
        "    y_train_pred = best_model.predict(X_train_selected)\n",
        "    y_test_pred = best_model.predict(X_test_selected)\n",
        "\n",
        "    train_accuracy = accuracy_score(y_train, y_train_pred)\n",
        "    test_accuracy = accuracy_score(y_test, y_test_pred)\n",
        "\n",
        "    print('Train Accuracy: ', train_accuracy)\n",
        "    print('Test Accuracy (after final fit): ', test_accuracy)\n",
        "    print('\\nClassification Report on Test Set:')\n",
        "    print(classification_report(y_test, y_test_pred))\n",
        "    print('\\nConfusion Matrix:')\n",
        "    print(confusion_matrix(y_test, y_test_pred))\n",
        "\n",
        "    cm = confusion_matrix(y_test, y_test_pred)\n",
        "    matrix_names = ['True Neg', 'False Pos', 'False Neg', 'True Pos']\n",
        "    matrix_counts = ['{0:0.0f}'.format(value) for value in cm.flatten()]\n",
        "    labels = [f'{v1}\\n{v2}' for v1, v2 in zip(matrix_names, matrix_counts)]\n",
        "    labels = np.asarray(labels).reshape(2, 2)\n",
        "\n",
        "    plt.figure(figsize=(10, 7))\n",
        "    sns.heatmap(cm, annot=labels, fmt='', cmap='Blues', xticklabels=['Negative', 'Positive'], yticklabels=['Negative', 'Positive'])\n",
        "    plt.title('SVC without Sentiment')\n",
        "    plt.show()\n",
        "\n",
        "    y_test_pred_proba = best_model.predict_proba(X_test_selected)[:, 1]\n",
        "    fpr, tpr, _ = roc_curve(y_test, y_test_pred_proba)\n",
        "    auc = round(roc_auc_score(y_test, y_test_pred_proba), 4)\n",
        "\n",
        "    return best_model, fpr, tpr, auc, y_test, y_test_pred\n",
        "\n",
        "\n",
        "k_values = list(range(1, 19))\n",
        "param_grid = {\n",
        "    'kernel': ['linear', 'rbf'],\n",
        "    'C': [0.1, 1, 10],\n",
        "    'gamma': [1e-3, 1e-4]\n",
        "}\n",
        "\n",
        "best_model1, fpr1, tpr1, auc1, y_test, y_test_pred = SVM(X_train_scaled, X_test_scaled, y_train, y_test, feature_names, k_values, param_grid)\n",
        "print('Best Model:', best_model1)\n",
        "print('AUC:', auc1)\n"
      ],
      "metadata": {
        "colab": {
          "base_uri": "https://localhost:8080/",
          "height": 935
        },
        "id": "uiwaJumA2I85",
        "outputId": "3b0a88ea-e96f-42dd-ab8a-f98e07291d97"
      },
      "execution_count": null,
      "outputs": [
        {
          "output_type": "stream",
          "name": "stdout",
          "text": [
            "Best k:  4\n",
            "Selected Features:  Index(['high', 'year', 'daily variation', 'MACD'], dtype='object')\n",
            "Best Test Accuracy:  0.5384615384615384\n",
            "Train Accuracy:  0.5607734806629834\n",
            "Test Accuracy (after final fit):  0.44871794871794873\n",
            "\n",
            "Classification Report on Test Set:\n",
            "              precision    recall  f1-score   support\n",
            "\n",
            "        -1.0       0.41      0.39      0.40        74\n",
            "         1.0       0.48      0.50      0.49        82\n",
            "\n",
            "    accuracy                           0.45       156\n",
            "   macro avg       0.45      0.45      0.45       156\n",
            "weighted avg       0.45      0.45      0.45       156\n",
            "\n",
            "\n",
            "Confusion Matrix:\n",
            "[[29 45]\n",
            " [41 41]]\n"
          ]
        },
        {
          "output_type": "display_data",
          "data": {
            "text/plain": [
              "<Figure size 1000x700 with 2 Axes>"
            ],
            "image/png": "[encoded data removed]"
          },
          "metadata": {}
        },
        {
          "output_type": "stream",
          "name": "stdout",
          "text": [
            "Best Model: SVC(C=10, gamma=0.001, kernel='linear', probability=True, random_state=0)\n",
            "AUC: 0.543\n"
          ]
        }
      ]
    },
    {
      "cell_type": "code",
      "source": [
        "plt.figure()\n",
        "plt.plot(fpr, tpr, label= f'With Sentiment AUC =  {auc:.2f}')\n",
        "plt.plot(fpr1, tpr1, label=f'Without Sentiment AUC = {auc1:.2f}')\n",
        "plt.plot([0, 1], [0, 1], 'k--', label='Random Guess')\n",
        "plt.xlabel('False Positive Rate')\n",
        "plt.ylabel('True Positive Rate')\n",
        "plt.title('SVC ROC Curve')\n",
        "plt.legend(loc='lower right')\n",
        "plt.show()"
      ],
      "metadata": {
        "colab": {
          "base_uri": "https://localhost:8080/",
          "height": 472
        },
        "id": "eiuovudhPxD8",
        "outputId": "b8c5497e-625d-4e20-dc93-4a1b6020c0f5"
      },
      "execution_count": null,
      "outputs": [
        {
          "output_type": "display_data",
          "data": {
            "text/plain": [
              "<Figure size 640x480 with 1 Axes>"
            ],
            "image/png": "[encoded data removed]"
          },
          "metadata": {}
        }
      ]
    }
  ]
}